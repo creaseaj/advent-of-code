{
 "cells": [
  {
   "cell_type": "code",
   "execution_count": 4,
   "metadata": {},
   "outputs": [],
   "source": [
    "import re\n",
    "import math\n",
    "from array import array\n",
    "from collections import Counter\n",
    "def getInput(day):\n",
    "    with open(f\"./inputs/2022/{day}.txt\") as f:\n",
    "        return f.readlines()"
   ]
  },
  {
   "cell_type": "markdown",
   "metadata": {},
   "source": [
    "## Day 1 **"
   ]
  },
  {
   "cell_type": "code",
   "execution_count": 5,
   "metadata": {},
   "outputs": [],
   "source": [
    "day = 1\n",
    "input  = getInput(day)"
   ]
  },
  {
   "cell_type": "code",
   "execution_count": 6,
   "metadata": {},
   "outputs": [
    {
     "name": "stdout",
     "output_type": "stream",
     "text": [
      "P1:  70116\n"
     ]
    }
   ],
   "source": [
    "elves = [0]\n",
    "for line in input:\n",
    "    calories = (re.findall(r\"\\d+\", line))\n",
    "    if calories:\n",
    "        elves[-1] += int(calories[0])\n",
    "    else:\n",
    "        elves.append(0)\n",
    "print('P1: ',sorted(elves)[-1])"
   ]
  },
  {
   "cell_type": "code",
   "execution_count": 7,
   "metadata": {},
   "outputs": [
    {
     "name": "stdout",
     "output_type": "stream",
     "text": [
      "P2: 206582\n"
     ]
    }
   ],
   "source": [
    "sortedElves = sorted(elves)\n",
    "print('P2:',sum(sortedElves[-1:-4:-1]))"
   ]
  },
  {
   "cell_type": "markdown",
   "metadata": {},
   "source": [
    "## Day 2 **"
   ]
  },
  {
   "cell_type": "code",
   "execution_count": 8,
   "metadata": {},
   "outputs": [],
   "source": [
    "day = 2\n",
    "input = [x.strip('\\n').split(' ') for x  in getInput(day)]"
   ]
  },
  {
   "cell_type": "code",
   "execution_count": 9,
   "metadata": {},
   "outputs": [
    {
     "name": "stdout",
     "output_type": "stream",
     "text": [
      "P1: 12645\n"
     ]
    }
   ],
   "source": [
    "# Input: [['A', 'Y'], ['B', 'X'], ['C', 'Z']]\n",
    "score = 0\n",
    "ranking = ['A','B','C']\n",
    "def checkRound(game):\n",
    "    elf = ord(game[0]) - 64\n",
    "    me = ord(game[1]) - 87\n",
    "    score = me\n",
    "    result = (elf - me)%3\n",
    "    if result == 2:\n",
    "        score += 6\n",
    "    elif result == 0:\n",
    "        score += 3\n",
    "    return score\n",
    "\n",
    "for round in input:\n",
    "    score += checkRound(round)\n",
    "    \n",
    "# 11661 too low\n",
    "print('P1:', score)"
   ]
  },
  {
   "cell_type": "code",
   "execution_count": 10,
   "metadata": {},
   "outputs": [
    {
     "name": "stdout",
     "output_type": "stream",
     "text": [
      "P2:  11756\n"
     ]
    }
   ],
   "source": [
    "score = 0\n",
    "def checkRoundP2(game):\n",
    "    elf = ord(game[0]) - 64\n",
    "    result = ord(game[1]) - 87\n",
    "    score = 0\n",
    "    if result == 3: # Win\n",
    "        myChoice = (elf)%3 + 1\n",
    "        score += 6\n",
    "        score += myChoice\n",
    "\n",
    "    elif result == 2: # Draw\n",
    "        score += 3\n",
    "        score += elf\n",
    "\n",
    "    else: # Lose\n",
    "        myChoice = (elf+1)%3 + 1\n",
    "        score += myChoice\n",
    "\n",
    "    return score\n",
    "\n",
    "for round in input:\n",
    "    score += checkRoundP2(round)\n",
    "\n",
    "print('P2: ',score)"
   ]
  },
  {
   "cell_type": "markdown",
   "metadata": {},
   "source": [
    "## Day 3 **"
   ]
  },
  {
   "cell_type": "code",
   "execution_count": 11,
   "metadata": {},
   "outputs": [],
   "source": [
    "day = 3\n",
    "input = [x.strip('\\n') for x  in getInput(day)]"
   ]
  },
  {
   "cell_type": "code",
   "execution_count": 12,
   "metadata": {},
   "outputs": [
    {
     "name": "stdout",
     "output_type": "stream",
     "text": [
      "P1: 8394\n"
     ]
    }
   ],
   "source": [
    "duplicates = []\n",
    "def stringCompare(s1, s2):\n",
    "    for i in s1:\n",
    "        for j in s2:\n",
    "            if i == j:\n",
    "                return i\n",
    "    return None\n",
    "def scoreDuplicates(duplicates):\n",
    "    score = 0\n",
    "    for character in duplicates:\n",
    "        if character.isupper():\n",
    "            score += ord(character) - 38\n",
    "        else:\n",
    "            score += ord(character) - 96\n",
    "    return score\n",
    "\n",
    "for line in input:\n",
    "    firstHalf = line[0:len(line)//2]\n",
    "    secondHalf = line[len(line)//2:]\n",
    "    duplicate = stringCompare(firstHalf, secondHalf)\n",
    "    if duplicate:\n",
    "        duplicates.append(duplicate)\n",
    "    \n",
    "print('P1:',scoreDuplicates(duplicates))"
   ]
  },
  {
   "cell_type": "code",
   "execution_count": 13,
   "metadata": {},
   "outputs": [
    {
     "name": "stdout",
     "output_type": "stream",
     "text": [
      "P2: 2413\n"
     ]
    }
   ],
   "source": [
    "duplicates = []\n",
    "def stringCompareP2(s1,s2,s3):\n",
    "    for i in s1:\n",
    "        for j in s2:\n",
    "            for k in s3:\n",
    "                if i == j == k:\n",
    "                    return i\n",
    "    return None\n",
    "for elf1,elf2,elf3 in zip(input[::3],input[1::3],input[2::3]):\n",
    "    duplicates.append(stringCompareP2(elf1,elf2,elf3))\n",
    "print('P2:',scoreDuplicates(duplicates))"
   ]
  },
  {
   "cell_type": "markdown",
   "metadata": {},
   "source": [
    "## Day 4 **"
   ]
  },
  {
   "cell_type": "code",
   "execution_count": 14,
   "metadata": {},
   "outputs": [],
   "source": [
    "day = 4\n",
    "input = [re.findall(r\"\\d+\",x) for x  in getInput(day)]"
   ]
  },
  {
   "cell_type": "code",
   "execution_count": 15,
   "metadata": {},
   "outputs": [
    {
     "name": "stdout",
     "output_type": "stream",
     "text": [
      "P1: 413\n"
     ]
    }
   ],
   "source": [
    "count = 0\n",
    "for i in input:\n",
    "    if (int(i[0]) <= int(i[2]) <= int(i[3]) <= int(i[1]) or int(i[2]) <= int(i[0]) <= int(i[1]) <= int(i[3])):\n",
    "        count += 1\n",
    "print('P1:',count)"
   ]
  },
  {
   "cell_type": "code",
   "execution_count": 16,
   "metadata": {},
   "outputs": [
    {
     "name": "stdout",
     "output_type": "stream",
     "text": [
      "P2: 806\n"
     ]
    }
   ],
   "source": [
    "count = 0\n",
    "for i in input:\n",
    "    if (int(i[0]) <= int(i[2])  <= int(i[1]) or int(i[2]) <= int(i[0]) <= int(i[3])):\n",
    "        count += 1\n",
    "print('P2:',count)"
   ]
  },
  {
   "cell_type": "markdown",
   "metadata": {},
   "source": [
    "## Day 5 **"
   ]
  },
  {
   "cell_type": "code",
   "execution_count": 17,
   "metadata": {},
   "outputs": [],
   "source": [
    "day = 5\n",
    "input = [x.strip('\\n') for x  in getInput(day)]"
   ]
  },
  {
   "cell_type": "code",
   "execution_count": 18,
   "metadata": {},
   "outputs": [
    {
     "name": "stdout",
     "output_type": "stream",
     "text": [
      "P1: QMBMJDFTD  \n"
     ]
    }
   ],
   "source": [
    "Stacks = []\n",
    "for i in range(len(input[0])//3):\n",
    "        Stacks.append([])\n",
    "def createInstructions(input):\n",
    "    instructions = []\n",
    "    for line in input:\n",
    "        if line.startswith('move'):\n",
    "            instructions.append(line)\n",
    "    return instructions\n",
    "def createStacks(input,Stacks):\n",
    "    for line in input:\n",
    "        stack = re.match(r\"^(\\[.\\]|\\s+)+$\", line)\n",
    "        if stack == None:\n",
    "            break\n",
    "        stack = stack.group()\n",
    "        count = 0\n",
    "        for i in range(1,len(stack),4):\n",
    "            if(stack[i] != ' '):  \n",
    "                Stacks[count].reverse()\n",
    "                Stacks[count].append(stack[i])\n",
    "                Stacks[count].reverse()\n",
    "            count += 1\n",
    "    return Stacks\n",
    "Stacks = createStacks(input,Stacks)\n",
    "instructions = createInstructions(input)\n",
    "        \n",
    "for instruction in instructions:\n",
    "    [Quantity, Source,Destination] = [ int(x)  for x in re.findall(r\"\\d+\", instruction)]\n",
    "    for i in range(Quantity):\n",
    "        toMove = Stacks[Source - 1].pop()\n",
    "        Stacks[Destination - 1].append(toMove)\n",
    "print('P1:',''.join([x[-1] if len(x) else  ' ' for x in Stacks]))"
   ]
  },
  {
   "cell_type": "code",
   "execution_count": 19,
   "metadata": {},
   "outputs": [
    {
     "name": "stdout",
     "output_type": "stream",
     "text": [
      "P2: NBTVTJNFJ  \n"
     ]
    }
   ],
   "source": [
    "Stacks = []\n",
    "for i in range(len(input[0])//3):\n",
    "        Stacks.append([])\n",
    "Stacks = createStacks(input,Stacks)\n",
    "instructions = createInstructions(input)\n",
    "for instruction in instructions:\n",
    "    [Quantity, Source,Destination] = [ int(x)  for x in re.findall(r\"\\d+\", instruction)]\n",
    "    toMove = []\n",
    "    for i in range(Quantity):\n",
    "        toMove.append(Stacks[Source - 1].pop())\n",
    "    for i in range(Quantity):\n",
    "        Stacks[Destination - 1].append(toMove.pop())\n",
    "print('P2:',''.join([x[-1] if len(x) else  ' ' for x in Stacks]))"
   ]
  },
  {
   "cell_type": "markdown",
   "metadata": {},
   "source": [
    "## Day 6 **"
   ]
  },
  {
   "cell_type": "markdown",
   "metadata": {},
   "source": []
  },
  {
   "cell_type": "code",
   "execution_count": 20,
   "metadata": {},
   "outputs": [],
   "source": [
    "day = 6\n",
    "input = getInput(day)[0]"
   ]
  },
  {
   "cell_type": "code",
   "execution_count": 21,
   "metadata": {},
   "outputs": [
    {
     "name": "stdout",
     "output_type": "stream",
     "text": [
      "P1: 1198\n"
     ]
    }
   ],
   "source": [
    "def checkStream(length,input):\n",
    "    for i in range(length,len(input)):\n",
    "        stream = input[i-length:i]\n",
    "        if(len(stream) == len(Counter(stream))):\n",
    "            return(i)\n",
    "\n",
    "print('P1:',checkStream(4,input))"
   ]
  },
  {
   "cell_type": "code",
   "execution_count": 22,
   "metadata": {},
   "outputs": [
    {
     "name": "stdout",
     "output_type": "stream",
     "text": [
      "P2: 3120\n"
     ]
    }
   ],
   "source": [
    "print('P2:',checkStream(14,input))"
   ]
  },
  {
   "cell_type": "markdown",
   "metadata": {},
   "source": [
    "## Day 7 **"
   ]
  },
  {
   "cell_type": "code",
   "execution_count": 23,
   "metadata": {},
   "outputs": [],
   "source": [
    "day = 7\n",
    "input = [x.strip('\\n') for x  in getInput(day)]"
   ]
  },
  {
   "cell_type": "code",
   "execution_count": 24,
   "metadata": {},
   "outputs": [
    {
     "name": "stdout",
     "output_type": "stream",
     "text": [
      "P1: 1490523\n"
     ]
    }
   ],
   "source": [
    "dirs = {'count':0}\n",
    "position = []\n",
    "def updateDirectory(dirs,position,filename,value):\n",
    "    posdir = dirs\n",
    "    for i in position:\n",
    "        posdir = posdir[i]\n",
    "    if value == 'DIR':\n",
    "        posdir[filename] = {'count':0}\n",
    "    else:\n",
    "        posdir['count'] += value\n",
    "    \n",
    "for line in input:\n",
    "    command = line.split(' ')\n",
    "    if command[1] == 'cd':\n",
    "        if command[2] == '..':\n",
    "            position.pop()\n",
    "        else:\n",
    "            updateDirectory(dirs,position,command[2],'DIR')\n",
    "            position.append(command[2])\n",
    "    elif re.search(r\"\\d+\",command[0]):\n",
    "        updateDirectory(dirs,position,'count',int(command[0]))\n",
    "\n",
    "def getDirectorySizes(dirs):\n",
    "    for i in dirs:\n",
    "        if i != 'count':\n",
    "            dirs[i] = getDirectorySizes(dirs[i])\n",
    "            if 'count' in dirs[i]:\n",
    "                dirs['count'] += dirs[i]['count']\n",
    "    return dirs\n",
    "getDirectorySizes(dirs)\n",
    "\n",
    "def sumDirectoriesSmallerThan100k(dirs):\n",
    "    count = 0\n",
    "    for i in dirs:\n",
    "        if i == 'count':\n",
    "            if dirs[i] < 100000:\n",
    "                count += dirs[i]\n",
    "        else:\n",
    "            count += sumDirectoriesSmallerThan100k(dirs[i])\n",
    "    return count\n",
    "\n",
    "print('P1:',sumDirectoriesSmallerThan100k(dirs))"
   ]
  },
  {
   "cell_type": "code",
   "execution_count": 25,
   "metadata": {},
   "outputs": [
    {
     "name": "stdout",
     "output_type": "stream",
     "text": [
      "P2: 12390492\n"
     ]
    }
   ],
   "source": [
    "def makeSpace(dirs,size):\n",
    "    smallest = 9999999999\n",
    "    for i in dirs:\n",
    "        if i == 'count':\n",
    "            if size < dirs[i] < smallest:\n",
    "                smallest = dirs[i]\n",
    "        else:\n",
    "            smallest = min(smallest,makeSpace(dirs[i],size))\n",
    "    return smallest\n",
    "spaceNeeded = dirs['/']['count'] - 40000000\n",
    "print('P2:',makeSpace(dirs,spaceNeeded))"
   ]
  },
  {
   "cell_type": "markdown",
   "metadata": {},
   "source": [
    "## Day 8"
   ]
  },
  {
   "cell_type": "code",
   "execution_count": 62,
   "metadata": {},
   "outputs": [],
   "source": [
    "day = 8\n",
    "input = [x.strip('\\n') for x  in getInput(day)]"
   ]
  },
  {
   "cell_type": "code",
   "execution_count": 63,
   "metadata": {},
   "outputs": [
    {
     "name": "stdout",
     "output_type": "stream",
     "text": [
      "P1: 1787\n"
     ]
    }
   ],
   "source": [
    "def isVisible(y,x,grid):\n",
    "    # print('Checking',grid[y][x])\n",
    "    ## Horizontal Check\n",
    "    horizontal = grid[y]\n",
    "    if max(horizontal[x+1:]) < grid[y][x]:\n",
    "        return True\n",
    "    elif max(horizontal[:x]) < grid[y][x]:\n",
    "        return True\n",
    "    ## Vertical Check\n",
    "    if max([grid[i][x] for i in range(0,y)]) < grid[y][x]:\n",
    "        return True\n",
    "    elif max([grid[i][x] for i in range(y+1,len(grid))]) < grid[y][x]:\n",
    "        return True\n",
    "\n",
    "    return False\n",
    "\n",
    "count = len(input)*2 + len(input[0])*2 - 4\n",
    "for i in range(1, len(input)-1):\n",
    "    for j in range(1,len(input[i])-1):\n",
    "        if isVisible(i,j,input):\n",
    "            count += 1\n",
    "            \n",
    "print('P1:',count)"
   ]
  },
  {
   "cell_type": "code",
   "execution_count": null,
   "metadata": {},
   "outputs": [],
   "source": []
  }
 ],
 "metadata": {
  "kernelspec": {
   "display_name": "Python 3.10.2 64-bit",
   "language": "python",
   "name": "python3"
  },
  "language_info": {
   "codemirror_mode": {
    "name": "ipython",
    "version": 3
   },
   "file_extension": ".py",
   "mimetype": "text/x-python",
   "name": "python",
   "nbconvert_exporter": "python",
   "pygments_lexer": "ipython3",
   "version": "3.10.2"
  },
  "orig_nbformat": 4,
  "vscode": {
   "interpreter": {
    "hash": "3f591a9cc3cc6aaf2986b422ff9bbc05fb9284cb5804e8312464555f38a09bcc"
   }
  }
 },
 "nbformat": 4,
 "nbformat_minor": 2
}
