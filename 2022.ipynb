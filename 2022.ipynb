{
 "cells": [
  {
   "cell_type": "code",
   "execution_count": 231,
   "metadata": {},
   "outputs": [],
   "source": [
    "import re\n",
    "import math\n",
    "def getInput(day):\n",
    "    with open(f\"./inputs/2022/{day}.txt\") as f:\n",
    "        return f.readlines()"
   ]
  },
  {
   "cell_type": "markdown",
   "metadata": {},
   "source": [
    "## Day 1"
   ]
  },
  {
   "cell_type": "code",
   "execution_count": 232,
   "metadata": {},
   "outputs": [],
   "source": [
    "day = 1\n",
    "input  = getInput(day)"
   ]
  },
  {
   "cell_type": "code",
   "execution_count": 233,
   "metadata": {},
   "outputs": [
    {
     "name": "stdout",
     "output_type": "stream",
     "text": [
      "P1:  70116\n"
     ]
    }
   ],
   "source": [
    "elves = [0]\n",
    "for line in input:\n",
    "    calories = (re.findall(r\"\\d+\", line))\n",
    "    if calories:\n",
    "        elves[-1] += int(calories[0])\n",
    "    else:\n",
    "        elves.append(0)\n",
    "print('P1: ',sorted(elves)[-1])"
   ]
  },
  {
   "cell_type": "code",
   "execution_count": 234,
   "metadata": {},
   "outputs": [
    {
     "name": "stdout",
     "output_type": "stream",
     "text": [
      "P2: 206582\n"
     ]
    }
   ],
   "source": [
    "sortedElves = sorted(elves)\n",
    "print('P2:',sum(sortedElves[-1:-4:-1]))"
   ]
  },
  {
   "cell_type": "markdown",
   "metadata": {},
   "source": [
    "## Day 2"
   ]
  },
  {
   "cell_type": "code",
   "execution_count": 235,
   "metadata": {},
   "outputs": [],
   "source": [
    "day = 2\n",
    "input = [x.strip('\\n').split(' ') for x  in getInput(day)]"
   ]
  },
  {
   "cell_type": "code",
   "execution_count": 236,
   "metadata": {},
   "outputs": [
    {
     "name": "stdout",
     "output_type": "stream",
     "text": [
      "P1: 12645\n"
     ]
    }
   ],
   "source": [
    "# Input: [['A', 'Y'], ['B', 'X'], ['C', 'Z']]\n",
    "score = 0\n",
    "ranking = ['A','B','C']\n",
    "def checkRound(game):\n",
    "    elf = ord(game[0]) - 64\n",
    "    me = ord(game[1]) - 87\n",
    "    score = me\n",
    "    result = (elf - me)%3\n",
    "    if result == 2:\n",
    "        score += 6\n",
    "    elif result == 0:\n",
    "        score += 3\n",
    "    return score\n",
    "\n",
    "for round in input:\n",
    "    score += checkRound(round)\n",
    "    \n",
    "# 11661 too low\n",
    "print('P1:', score)"
   ]
  },
  {
   "cell_type": "code",
   "execution_count": 237,
   "metadata": {},
   "outputs": [
    {
     "name": "stdout",
     "output_type": "stream",
     "text": [
      "P2:  11756\n"
     ]
    }
   ],
   "source": [
    "score = 0\n",
    "def checkRoundP2(game):\n",
    "    elf = ord(game[0]) - 64\n",
    "    result = ord(game[1]) - 87\n",
    "    score = 0\n",
    "    if result == 3: # Win\n",
    "        myChoice = (elf)%3 + 1\n",
    "        score += 6\n",
    "        score += myChoice\n",
    "\n",
    "    elif result == 2: # Draw\n",
    "        score += 3\n",
    "        score += elf\n",
    "\n",
    "    else: # Lose\n",
    "        myChoice = (elf+1)%3 + 1\n",
    "        score += myChoice\n",
    "\n",
    "    return score\n",
    "\n",
    "for round in input:\n",
    "    score += checkRoundP2(round)\n",
    "\n",
    "print('P2: ',score)"
   ]
  },
  {
   "cell_type": "markdown",
   "metadata": {},
   "source": [
    "## Day 3"
   ]
  },
  {
   "cell_type": "code",
   "execution_count": 238,
   "metadata": {},
   "outputs": [],
   "source": [
    "day = 3\n",
    "input = [x.strip('\\n') for x  in getInput(day)]"
   ]
  },
  {
   "cell_type": "code",
   "execution_count": 239,
   "metadata": {},
   "outputs": [
    {
     "name": "stdout",
     "output_type": "stream",
     "text": [
      "P1: 8394\n"
     ]
    }
   ],
   "source": [
    "duplicates = []\n",
    "def stringCompare(s1, s2):\n",
    "    for i in s1:\n",
    "        for j in s2:\n",
    "            if i == j:\n",
    "                return i\n",
    "    return None\n",
    "def scoreDuplicates(duplicates):\n",
    "    score = 0\n",
    "    for character in duplicates:\n",
    "        if character.isupper():\n",
    "            score += ord(character) - 38\n",
    "        else:\n",
    "            score += ord(character) - 96\n",
    "    return score\n",
    "\n",
    "for line in input:\n",
    "    firstHalf = line[0:len(line)//2]\n",
    "    secondHalf = line[len(line)//2:]\n",
    "    duplicate = stringCompare(firstHalf, secondHalf)\n",
    "    if duplicate:\n",
    "        duplicates.append(duplicate)\n",
    "    \n",
    "print('P1:',scoreDuplicates(duplicates))"
   ]
  },
  {
   "cell_type": "code",
   "execution_count": 240,
   "metadata": {},
   "outputs": [
    {
     "name": "stdout",
     "output_type": "stream",
     "text": [
      "P2: 2413\n"
     ]
    }
   ],
   "source": [
    "duplicates = []\n",
    "def stringCompareP2(s1,s2,s3):\n",
    "    for i in s1:\n",
    "        for j in s2:\n",
    "            for k in s3:\n",
    "                if i == j == k:\n",
    "                    return i\n",
    "    return None\n",
    "for elf1,elf2,elf3 in zip(input[::3],input[1::3],input[2::3]):\n",
    "    duplicates.append(stringCompareP2(elf1,elf2,elf3))\n",
    "print('P2:',scoreDuplicates(duplicates))"
   ]
  },
  {
   "cell_type": "code",
   "execution_count": 241,
   "metadata": {},
   "outputs": [
    {
     "name": "stdout",
     "output_type": "stream",
     "text": [
      "1\n",
      "27\n"
     ]
    }
   ],
   "source": [
    "print(ord('a')-96)\n",
    "print(ord('A')-38)"
   ]
  },
  {
   "cell_type": "markdown",
   "metadata": {},
   "source": [
    "## Day 4"
   ]
  },
  {
   "cell_type": "code",
   "execution_count": 242,
   "metadata": {},
   "outputs": [],
   "source": [
    "day = 4\n",
    "input = [re.findall(r\"\\d+\",x) for x  in getInput(day)]"
   ]
  },
  {
   "cell_type": "code",
   "execution_count": 243,
   "metadata": {},
   "outputs": [
    {
     "name": "stdout",
     "output_type": "stream",
     "text": [
      "P1: 413\n"
     ]
    }
   ],
   "source": [
    "count = 0\n",
    "for i in input:\n",
    "    if (int(i[0]) <= int(i[2]) <= int(i[3]) <= int(i[1]) or int(i[2]) <= int(i[0]) <= int(i[1]) <= int(i[3])):\n",
    "        count += 1\n",
    "print('P1:',count)"
   ]
  },
  {
   "cell_type": "code",
   "execution_count": 244,
   "metadata": {},
   "outputs": [
    {
     "name": "stdout",
     "output_type": "stream",
     "text": [
      "P2: 806\n"
     ]
    }
   ],
   "source": [
    "count = 0\n",
    "for i in input:\n",
    "    if (int(i[0]) <= int(i[2])  <= int(i[1]) or int(i[2]) <= int(i[0]) <= int(i[3])):\n",
    "        count += 1\n",
    "print('P2:',count)"
   ]
  }
 ],
 "metadata": {
  "kernelspec": {
   "display_name": "Python 3.10.2 64-bit",
   "language": "python",
   "name": "python3"
  },
  "language_info": {
   "codemirror_mode": {
    "name": "ipython",
    "version": 3
   },
   "file_extension": ".py",
   "mimetype": "text/x-python",
   "name": "python",
   "nbconvert_exporter": "python",
   "pygments_lexer": "ipython3",
   "version": "3.10.2"
  },
  "orig_nbformat": 4,
  "vscode": {
   "interpreter": {
    "hash": "3f591a9cc3cc6aaf2986b422ff9bbc05fb9284cb5804e8312464555f38a09bcc"
   }
  }
 },
 "nbformat": 4,
 "nbformat_minor": 2
}
