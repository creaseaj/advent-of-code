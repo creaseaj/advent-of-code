{
 "cells": [
  {
   "cell_type": "markdown",
   "metadata": {},
   "source": [
    "### Day 1"
   ]
  },
  {
   "cell_type": "code",
   "execution_count": 4,
   "metadata": {},
   "outputs": [
    {
     "name": "stdout",
     "output_type": "stream",
     "text": [
      "Hello World!\n",
      "2000\n"
     ]
    }
   ],
   "source": [
    "print(\"Hello World!\")\n",
    "with open('./inputs/2022/1.txt') as file:\n",
    "    lines=file.readlines()\n",
    "    print(len(lines))"
   ]
  }
 ],
 "metadata": {
  "kernelspec": {
   "display_name": "Python 3.10.2 64-bit",
   "language": "python",
   "name": "python3"
  },
  "language_info": {
   "codemirror_mode": {
    "name": "ipython",
    "version": 3
   },
   "file_extension": ".py",
   "mimetype": "text/x-python",
   "name": "python",
   "nbconvert_exporter": "python",
   "pygments_lexer": "ipython3",
   "version": "3.10.2"
  },
  "orig_nbformat": 4,
  "vscode": {
   "interpreter": {
    "hash": "3f591a9cc3cc6aaf2986b422ff9bbc05fb9284cb5804e8312464555f38a09bcc"
   }
  }
 },
 "nbformat": 4,
 "nbformat_minor": 2
}
