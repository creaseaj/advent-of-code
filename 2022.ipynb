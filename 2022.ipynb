{
 "cells": [
  {
   "cell_type": "code",
   "execution_count": 137,
   "metadata": {},
   "outputs": [],
   "source": [
    "import re\n",
    "def getInput(day):\n",
    "    with open(f\"./inputs/2022/{day}.txt\") as f:\n",
    "        return f.readlines()"
   ]
  },
  {
   "cell_type": "markdown",
   "metadata": {},
   "source": [
    "## Day 5"
   ]
  },
  {
   "cell_type": "code",
   "execution_count": 138,
   "metadata": {},
   "outputs": [
    {
     "name": "stdout",
     "output_type": "stream",
     "text": [
      "21577\n"
     ]
    }
   ],
   "source": [
    "day = 5\n",
    "input = getInput(day)\n",
    "\n",
    "\n",
    "def incrementCell(arr, x, y):\n",
    "    cell = arr[x][y]\n",
    "    if cell == '.':\n",
    "        cell = 1\n",
    "    else:\n",
    "        cell += 1\n",
    "    arr[x][y] = cell\n",
    "    return arr\n",
    "\n",
    "# Find biggest number from input\n",
    "biggest = 0\n",
    "for i in input:\n",
    "    match = [int(numeric_string) for numeric_string in re.findall(r'(\\d+)', i)];\n",
    "    match.sort()\n",
    "    if(match[-1] > biggest):\n",
    "        biggest = match[-1]\n",
    "biggest += 1\n",
    "output = [[0] * biggest for i in range(biggest)]\n",
    "for i in input:\n",
    "    match = [int(numeric_string) for numeric_string in re.findall(r'(\\d+)', i)];\n",
    "    matchXLen = match[2] - match[0]\n",
    "    matchYLen = match[3] - match[1]\n",
    "    if matchXLen == 0:\n",
    "        xChange = 0\n",
    "    elif matchXLen > 0:\n",
    "        xChange = 1\n",
    "    else:\n",
    "        xChange = -1\n",
    "\n",
    "    if matchYLen == 0:\n",
    "        yChange = 0\n",
    "    elif matchYLen > 0:\n",
    "        yChange = 1\n",
    "    else:\n",
    "        yChange = -1\n",
    "    length = matchXLen if matchYLen == 0 else matchYLen\n",
    "    for i in range(abs(length + 1 if length > 0 else length - 1)):\n",
    "        output = incrementCell(\n",
    "            output,\n",
    "            match[0] + i * xChange,\n",
    "            match[1] + i * yChange\n",
    "        )\n",
    "layoverCount = 0\n",
    "for i in output:\n",
    "    for j in i:\n",
    "        if j > 1:\n",
    "            layoverCount += 1\n",
    "print(layoverCount)\n",
    "\n"
   ]
  }
 ],
 "metadata": {
  "kernelspec": {
   "display_name": "Python 3.10.2 64-bit",
   "language": "python",
   "name": "python3"
  },
  "language_info": {
   "codemirror_mode": {
    "name": "ipython",
    "version": 3
   },
   "file_extension": ".py",
   "mimetype": "text/x-python",
   "name": "python",
   "nbconvert_exporter": "python",
   "pygments_lexer": "ipython3",
   "version": "3.10.2"
  },
  "orig_nbformat": 4,
  "vscode": {
   "interpreter": {
    "hash": "3f591a9cc3cc6aaf2986b422ff9bbc05fb9284cb5804e8312464555f38a09bcc"
   }
  }
 },
 "nbformat": 4,
 "nbformat_minor": 2
}
