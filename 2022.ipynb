{
 "cells": [
  {
   "cell_type": "code",
   "execution_count": 2,
   "metadata": {},
   "outputs": [],
   "source": [
    "import re\n",
    "def getInput(day):\n",
    "    with open(f\"./inputs/2022/{day}.txt\") as f:\n",
    "        return f.readlines()"
   ]
  },
  {
   "cell_type": "markdown",
   "metadata": {},
   "source": [
    "## Day 5"
   ]
  },
  {
   "cell_type": "code",
   "execution_count": 151,
   "metadata": {},
   "outputs": [],
   "source": [
    "day = 5\n",
    "input = getInput(day)"
   ]
  },
  {
   "cell_type": "code",
   "execution_count": 152,
   "metadata": {},
   "outputs": [],
   "source": [
    "def incrementCell(arr, x, y):\n",
    "    cell = arr[x][y]\n",
    "    if cell == '.':\n",
    "        cell = 1\n",
    "    else:\n",
    "        cell += 1\n",
    "    arr[x][y] = cell\n",
    "    return arr"
   ]
  },
  {
   "cell_type": "code",
   "execution_count": 153,
   "metadata": {},
   "outputs": [],
   "source": [
    "# Find biggest number from input\n",
    "biggest = 0\n",
    "for i in input:\n",
    "    match = [int(numeric_string) for numeric_string in re.findall(r'(\\d+)', i)];\n",
    "    match.sort()\n",
    "    if(match[-1] > biggest):\n",
    "        biggest = match[-1]\n",
    "biggest += 1"
   ]
  },
  {
   "cell_type": "code",
   "execution_count": 154,
   "metadata": {},
   "outputs": [],
   "source": [
    "# Creating output array\n",
    "output = [[0] * biggest for i in range(biggest)]\n",
    "for i in input:\n",
    "    match = [int(numeric_string) for numeric_string in re.findall(r'(\\d+)', i)];\n",
    "    matchXLen = match[2] - match[0]\n",
    "    matchYLen = match[3] - match[1]\n",
    "    if matchXLen == 0:\n",
    "        xChange = 0\n",
    "    elif matchXLen > 0:\n",
    "        xChange = 1\n",
    "    else:\n",
    "        xChange = -1\n",
    "    if matchYLen == 0:\n",
    "        yChange = 0\n",
    "    elif matchYLen > 0:\n",
    "        yChange = 1\n",
    "    else:\n",
    "        yChange = -1\n",
    "    length = matchXLen if matchYLen == 0 else matchYLen\n",
    "    for i in range(abs(length + 1 if length > 0 else length - 1)):\n",
    "        output = incrementCell(\n",
    "            output,\n",
    "            match[0] + i * xChange,\n",
    "            match[1] + i * yChange\n",
    "        )"
   ]
  },
  {
   "cell_type": "code",
   "execution_count": 155,
   "metadata": {},
   "outputs": [
    {
     "name": "stdout",
     "output_type": "stream",
     "text": [
      "21577\n"
     ]
    }
   ],
   "source": [
    "layoverCount = 0\n",
    "for i in output:\n",
    "    for j in i:\n",
    "        if j > 1:\n",
    "            layoverCount += 1\n",
    "print(layoverCount)"
   ]
  },
  {
   "cell_type": "markdown",
   "metadata": {},
   "source": [
    "## Day 6"
   ]
  },
  {
   "cell_type": "code",
   "execution_count": 33,
   "metadata": {},
   "outputs": [
    {
     "name": "stdout",
     "output_type": "stream",
     "text": [
      "5934\n"
     ]
    }
   ],
   "source": [
    "day = 6\n",
    "input = [int(x) for x in re.findall(r'\\d+', getInput(day)[0])]\n",
    "def increment(n):\n",
    "    return n - 1 if n > 0 else 6\n",
    "\n",
    "## Part 1\n",
    "def loop(arr):\n",
    "    # find amount of array cells which are 0\n",
    "    zeroCells = arr.count(0)\n",
    "    # decrement all cells by 1\n",
    "    arr = list(map(increment, arr))\n",
    "    \n",
    "    # add new cells to array\n",
    "    newCells = [8] * zeroCells\n",
    "    arr += newCells\n",
    "    \n",
    "    return arr\n",
    "\n",
    "for i in range(80):\n",
    "    input = loop(input)\n",
    "print(len(input))\n"
   ]
  },
  {
   "cell_type": "code",
   "execution_count": 49,
   "metadata": {},
   "outputs": [
    {
     "name": "stdout",
     "output_type": "stream",
     "text": [
      "[1, 2, 3, 3, 4]\n",
      "{6: 0, 8: 0, 0: 1, 1: 1, 2: 2}\n",
      "5\n",
      "{5: 0, 7: 0, 6: 1, 8: 1, 0: 1, 1: 2}\n",
      "6\n",
      "{4: 0, 6: 1, 5: 1, 7: 1, 8: 1, 0: 2}\n",
      "6\n",
      "{3: 0, 5: 1, 4: 1, 6: 2, 7: 1, 8: 2}\n",
      "6\n",
      "{2: 0, 4: 1, 3: 1, 5: 2, 6: 1, 7: 2}\n",
      "6\n",
      "{1: 0, 3: 1, 2: 1, 4: 2, 5: 1, 6: 2}\n",
      "6\n",
      "{0: 0, 2: 1, 1: 1, 3: 2, 4: 1, 5: 2}\n",
      "6\n",
      "{6: 0, 8: 0, 1: 1, 0: 1, 2: 2, 3: 1, 4: 2}\n",
      "7\n",
      "{5: 0, 7: 0, 0: 1, 6: 1, 8: 1, 1: 2, 2: 1, 3: 2}\n",
      "8\n",
      "{4: 0, 6: 1, 8: 1, 5: 1, 7: 1, 0: 2, 1: 1, 2: 2}\n",
      "8\n",
      "{3: 0, 5: 1, 7: 1, 4: 1, 6: 2, 8: 2, 0: 1, 1: 2}\n",
      "8\n",
      "{2: 0, 4: 1, 6: 1, 3: 1, 5: 2, 7: 2, 8: 1, 0: 2}\n",
      "8\n",
      "{1: 0, 3: 1, 5: 1, 2: 1, 4: 2, 6: 2, 7: 1, 8: 2}\n",
      "8\n",
      "{0: 0, 2: 1, 4: 1, 1: 1, 3: 2, 5: 2, 6: 1, 7: 2}\n",
      "8\n",
      "{6: 2, 8: 0, 1: 1, 3: 1, 0: 1, 2: 2, 4: 2, 5: 1}\n",
      "8\n",
      "{5: 2, 7: 0, 0: 1, 2: 1, 6: 1, 8: 1, 1: 2, 3: 2, 4: 1}\n",
      "9\n",
      "{4: 2, 6: 1, 8: 1, 1: 1, 5: 1, 7: 1, 0: 2, 2: 2, 3: 1}\n",
      "9\n",
      "{3: 2, 5: 1, 7: 1, 0: 1, 4: 1, 6: 2, 8: 2, 1: 2, 2: 1}\n",
      "9\n",
      "{2: 2, 4: 1, 6: 1, 8: 1, 3: 1, 5: 2, 7: 2, 0: 2, 1: 1}\n",
      "9\n",
      "{1: 2, 3: 1, 5: 1, 7: 1, 2: 1, 4: 2, 6: 2, 8: 2, 0: 1}\n",
      "9\n",
      "{0: 2, 2: 1, 4: 1, 6: 1, 1: 1, 3: 2, 5: 2, 7: 2, 8: 1}\n",
      "9\n",
      "{6: 2, 8: 2, 1: 1, 3: 1, 5: 1, 0: 1, 2: 2, 4: 2, 7: 1}\n",
      "9\n",
      "{5: 2, 7: 2, 0: 1, 2: 1, 4: 1, 6: 1, 8: 1, 1: 2, 3: 2}\n",
      "9\n",
      "{4: 2, 6: 1, 8: 1, 1: 1, 3: 1, 5: 1, 7: 1, 0: 2, 2: 2}\n",
      "9\n",
      "{3: 2, 5: 1, 7: 1, 0: 1, 2: 1, 4: 1, 6: 2, 8: 2, 1: 2}\n",
      "9\n",
      "{2: 2, 4: 1, 6: 1, 8: 1, 1: 1, 3: 1, 5: 2, 7: 2, 0: 2}\n",
      "9\n",
      "9\n"
     ]
    }
   ],
   "source": [
    "## Part 2\n",
    "input  = [int(x) for x in re.findall(r'\\d+', getInput(day)[0])]\n",
    "def formatInput(arr):\n",
    "    arr.sort()\n",
    "    print(arr)\n",
    "    length = arr[-1]\n",
    "    outputList = {}\n",
    "    for i in range(length):\n",
    "        outputList[i] = arr.count(i)\n",
    "    return outputList\n",
    "\n",
    "def loopP2(fish):   \n",
    "    # {0: 0, 1: 1, 2: 1, 3: 2}\n",
    "    newFish = {}\n",
    "    for i in fish:\n",
    "        if(i == 0):\n",
    "            newFish[6] = fish[i]\n",
    "            newFish[8] = fish[i]\n",
    "        else:\n",
    "            newFish[i - 1] = fish[i]\n",
    "    \n",
    "    \n",
    "    return newFish\n",
    "input = formatInput(input)\n",
    "for i in range(26):\n",
    "    input = loopP2(input)\n",
    "    print(input)\n",
    "    print(len(input))\n",
    "print(len(input))"
   ]
  }
 ],
 "metadata": {
  "kernelspec": {
   "display_name": "Python 3.10.8 64-bit (microsoft store)",
   "language": "python",
   "name": "python3"
  },
  "language_info": {
   "codemirror_mode": {
    "name": "ipython",
    "version": 3
   },
   "file_extension": ".py",
   "mimetype": "text/x-python",
   "name": "python",
   "nbconvert_exporter": "python",
   "pygments_lexer": "ipython3",
   "version": "3.10.8"
  },
  "orig_nbformat": 4,
  "vscode": {
   "interpreter": {
    "hash": "c5c26057df05ae7e47c7416cbf13e16e6e6819d2130242da00c2feb7f080f170"
   }
  }
 },
 "nbformat": 4,
 "nbformat_minor": 2
}
