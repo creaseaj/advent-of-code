{
 "cells": [
  {
   "cell_type": "code",
   "execution_count": 89,
   "metadata": {},
   "outputs": [],
   "source": [
    "import re\n",
    "import math\n",
    "def getInput(day):\n",
    "    with open(f\"./inputs/2021/{day}.txt\") as f:\n",
    "        return f.readlines()"
   ]
  },
  {
   "cell_type": "markdown",
   "metadata": {},
   "source": [
    "## Day 5"
   ]
  },
  {
   "cell_type": "code",
   "execution_count": 80,
   "metadata": {},
   "outputs": [],
   "source": [
    "day = 5\n",
    "input = getInput(day)"
   ]
  },
  {
   "cell_type": "code",
   "execution_count": 81,
   "metadata": {},
   "outputs": [],
   "source": [
    "def incrementCell(arr, x, y):\n",
    "    cell = arr[x][y]\n",
    "    if cell == '.':\n",
    "        cell = 1\n",
    "    else:\n",
    "        cell += 1\n",
    "    arr[x][y] = cell\n",
    "    return arr"
   ]
  },
  {
   "cell_type": "code",
   "execution_count": 82,
   "metadata": {},
   "outputs": [],
   "source": [
    "# Find biggest number from input\n",
    "biggest = 0\n",
    "for i in input:\n",
    "    match = [int(numeric_string) for numeric_string in re.findall(r'(\\d+)', i)];\n",
    "    match.sort()\n",
    "    if(match[-1] > biggest):\n",
    "        biggest = match[-1]\n",
    "biggest += 1"
   ]
  },
  {
   "cell_type": "code",
   "execution_count": 83,
   "metadata": {},
   "outputs": [],
   "source": [
    "# Creating output array\n",
    "output = [[0] * biggest for i in range(biggest)]\n",
    "for i in input:\n",
    "    match = [int(numeric_string) for numeric_string in re.findall(r'(\\d+)', i)];\n",
    "    matchXLen = match[2] - match[0]\n",
    "    matchYLen = match[3] - match[1]\n",
    "    if matchXLen == 0:\n",
    "        xChange = 0\n",
    "    elif matchXLen > 0:\n",
    "        xChange = 1\n",
    "    else:\n",
    "        xChange = -1\n",
    "    if matchYLen == 0:\n",
    "        yChange = 0\n",
    "    elif matchYLen > 0:\n",
    "        yChange = 1\n",
    "    else:\n",
    "        yChange = -1\n",
    "    length = matchXLen if matchYLen == 0 else matchYLen\n",
    "    for i in range(abs(length + 1 if length > 0 else length - 1)):\n",
    "        output = incrementCell(\n",
    "            output,\n",
    "            match[0] + i * xChange,\n",
    "            match[1] + i * yChange\n",
    "        )"
   ]
  },
  {
   "cell_type": "code",
   "execution_count": 84,
   "metadata": {},
   "outputs": [
    {
     "name": "stdout",
     "output_type": "stream",
     "text": [
      "21577\n"
     ]
    }
   ],
   "source": [
    "layoverCount = 0\n",
    "for i in output:\n",
    "    for j in i:\n",
    "        if j > 1:\n",
    "            layoverCount += 1\n",
    "print(layoverCount)"
   ]
  },
  {
   "cell_type": "markdown",
   "metadata": {},
   "source": [
    "## Day 6"
   ]
  },
  {
   "cell_type": "code",
   "execution_count": 85,
   "metadata": {},
   "outputs": [
    {
     "name": "stdout",
     "output_type": "stream",
     "text": [
      "350917\n"
     ]
    }
   ],
   "source": [
    "day = 6\n",
    "input = [int(x) for x in re.findall(r'\\d+', getInput(day)[0])]\n",
    "def increment(n):\n",
    "    return n - 1 if n > 0 else 6\n",
    "\n",
    "## Part 1\n",
    "def loop(arr):\n",
    "    # find amount of array cells which are 0\n",
    "    zeroCells = arr.count(0)\n",
    "    # decrement all cells by 1\n",
    "    arr = list(map(increment, arr))\n",
    "    \n",
    "    # add new cells to array\n",
    "    newCells = [8] * zeroCells\n",
    "    arr += newCells\n",
    "    \n",
    "    return arr\n",
    "\n",
    "for i in range(80):\n",
    "    input = loop(input)\n",
    "print(len(input))\n"
   ]
  },
  {
   "cell_type": "code",
   "execution_count": 86,
   "metadata": {},
   "outputs": [
    {
     "name": "stdout",
     "output_type": "stream",
     "text": [
      "1592918715629\n"
     ]
    }
   ],
   "source": [
    "## Part 2\n",
    "input  = [int(x) for x in re.findall(r'\\d+', getInput(day)[0])]\n",
    "def formatInput(arr):\n",
    "    arr.sort()\n",
    "    length = arr[-1]\n",
    "    outputList = {}\n",
    "    for i in range(length + 1):\n",
    "        outputList[i] = arr.count(i)\n",
    "    return outputList\n",
    "\n",
    "def loopP2(fish):   \n",
    "    # {0: 0, 1: 1, 2: 1, 3: 2}\n",
    "    newFish = {0:0, 1:0, 2:0, 3:0, 4:0, 5:0, 6:0, 7:0, 8:0}\n",
    "    for i in fish:\n",
    "        if(i == 0):\n",
    "            newFish[6] = newFish[6] + fish[i]\n",
    "            newFish[8] = fish[i]\n",
    "        else:\n",
    "            newFish[i - 1] = newFish[i-1] + fish[i]\n",
    "    \n",
    "    return newFish\n",
    "input = formatInput(input)\n",
    "for i in range(256):\n",
    "    input = loopP2(input)\n",
    "print(sum(input.values()))"
   ]
  },
  {
   "cell_type": "markdown",
   "metadata": {},
   "source": [
    "## Day 7"
   ]
  },
  {
   "cell_type": "code",
   "execution_count": 98,
   "metadata": {},
   "outputs": [
    {
     "name": "stdout",
     "output_type": "stream",
     "text": [
      "2\n",
      "37\n"
     ]
    }
   ],
   "source": [
    "day = 7\n",
    "input = [int(x) for x in re.findall(r'\\d+', getInput(day)[0])]\n",
    "input.sort()\n",
    "fuel = 0\n",
    "median = input[int(len(input)/2)]\n",
    "print(median)\n",
    "for i in input:\n",
    "    fuel += abs(i - median)\n",
    "print(fuel)"
   ]
  },
  {
   "cell_type": "code",
   "execution_count": 101,
   "metadata": {},
   "outputs": [
    {
     "name": "stdout",
     "output_type": "stream",
     "text": [
      "2147483648\n",
      "5\n",
      "168\n"
     ]
    }
   ],
   "source": [
    "input = [int(x) for x in re.findall(r'\\d+', getInput(day)[0])]\n",
    "# 92676748 too high\n",
    "def sumNatural(n):\n",
    "    sum = (n*(n+1))//2\n",
    "    return sum\n",
    "median = math.ceil(sum(input) / len(input))\n",
    "print(2 ** 31)\n",
    "print(median)\n",
    "fuel = 0\n",
    "for i in input:\n",
    "    fuel += sumNatural(abs(i - median))\n",
    "\n",
    "print(fuel)"
   ]
  }
 ],
 "metadata": {
  "kernelspec": {
   "display_name": "Python 3.10.2 64-bit",
   "language": "python",
   "name": "python3"
  },
  "language_info": {
   "codemirror_mode": {
    "name": "ipython",
    "version": 3
   },
   "file_extension": ".py",
   "mimetype": "text/x-python",
   "name": "python",
   "nbconvert_exporter": "python",
   "pygments_lexer": "ipython3",
   "version": "3.10.2"
  },
  "orig_nbformat": 4,
  "vscode": {
   "interpreter": {
    "hash": "3f591a9cc3cc6aaf2986b422ff9bbc05fb9284cb5804e8312464555f38a09bcc"
   }
  }
 },
 "nbformat": 4,
 "nbformat_minor": 2
}
